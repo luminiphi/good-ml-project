{
 "cells": [
  {
   "cell_type": "code",
   "execution_count": null,
   "metadata": {},
   "outputs": [],
   "source": []
  }
 ],
 "metadata": {
  "kernelspec": {
   "display_name": "Python 3.9.7 64-bit ('3.9.7')",
   "language": "python",
   "name": "python3"
  },
  "language_info": {
   "name": "python",
   "version": "3.9.7"
  },
  "orig_nbformat": 4,
  "vscode": {
   "interpreter": {
    "hash": "4cc604bee8f83c141d40d39a9bb186e6fa194e6777f7c9c37ad36a4f111bb667"
   }
  }
 },
 "nbformat": 4,
 "nbformat_minor": 2
}
